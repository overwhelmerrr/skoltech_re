{
 "cells": [
  {
   "cell_type": "code",
   "execution_count": 1,
   "metadata": {
    "colab": {
     "base_uri": "https://localhost:8080/"
    },
    "id": "jAR6CyGVb3F5",
    "outputId": "834e6149-851f-4ea3-80e0-ac25cdd82c30"
   },
   "outputs": [
    {
     "name": "stdout",
     "output_type": "stream",
     "text": [
      "Looking in indexes: https://pypi.org/simple, https://us-python.pkg.dev/colab-wheels/public/simple/\n",
      "Requirement already satisfied: catboost in /usr/local/lib/python3.10/dist-packages (1.2)\n",
      "Requirement already satisfied: graphviz in /usr/local/lib/python3.10/dist-packages (from catboost) (0.20.1)\n",
      "Requirement already satisfied: matplotlib in /usr/local/lib/python3.10/dist-packages (from catboost) (3.7.1)\n",
      "Requirement already satisfied: numpy>=1.16.0 in /usr/local/lib/python3.10/dist-packages (from catboost) (1.22.4)\n",
      "Requirement already satisfied: pandas>=0.24 in /usr/local/lib/python3.10/dist-packages (from catboost) (1.5.3)\n",
      "Requirement already satisfied: scipy in /usr/local/lib/python3.10/dist-packages (from catboost) (1.10.1)\n",
      "Requirement already satisfied: plotly in /usr/local/lib/python3.10/dist-packages (from catboost) (5.13.1)\n",
      "Requirement already satisfied: six in /usr/local/lib/python3.10/dist-packages (from catboost) (1.16.0)\n",
      "Requirement already satisfied: python-dateutil>=2.8.1 in /usr/local/lib/python3.10/dist-packages (from pandas>=0.24->catboost) (2.8.2)\n",
      "Requirement already satisfied: pytz>=2020.1 in /usr/local/lib/python3.10/dist-packages (from pandas>=0.24->catboost) (2022.7.1)\n",
      "Requirement already satisfied: contourpy>=1.0.1 in /usr/local/lib/python3.10/dist-packages (from matplotlib->catboost) (1.0.7)\n",
      "Requirement already satisfied: cycler>=0.10 in /usr/local/lib/python3.10/dist-packages (from matplotlib->catboost) (0.11.0)\n",
      "Requirement already satisfied: fonttools>=4.22.0 in /usr/local/lib/python3.10/dist-packages (from matplotlib->catboost) (4.39.3)\n",
      "Requirement already satisfied: kiwisolver>=1.0.1 in /usr/local/lib/python3.10/dist-packages (from matplotlib->catboost) (1.4.4)\n",
      "Requirement already satisfied: packaging>=20.0 in /usr/local/lib/python3.10/dist-packages (from matplotlib->catboost) (23.1)\n",
      "Requirement already satisfied: pillow>=6.2.0 in /usr/local/lib/python3.10/dist-packages (from matplotlib->catboost) (8.4.0)\n",
      "Requirement already satisfied: pyparsing>=2.3.1 in /usr/local/lib/python3.10/dist-packages (from matplotlib->catboost) (3.0.9)\n",
      "Requirement already satisfied: tenacity>=6.2.0 in /usr/local/lib/python3.10/dist-packages (from plotly->catboost) (8.2.2)\n"
     ]
    }
   ],
   "source": [
    "!pip install catboost"
   ]
  },
  {
   "cell_type": "code",
   "execution_count": 2,
   "metadata": {
    "colab": {
     "base_uri": "https://localhost:8080/"
    },
    "collapsed": true,
    "id": "RHrYQnVICk14",
    "jupyter": {
     "outputs_hidden": true
    },
    "outputId": "a7a8ccf3-0038-444c-d238-5a6618833cf8",
    "tags": []
   },
   "outputs": [
    {
     "name": "stdout",
     "output_type": "stream",
     "text": [
      "Looking in indexes: https://pypi.org/simple, https://us-python.pkg.dev/colab-wheels/public/simple/\n",
      "Requirement already satisfied: sktime[all_extras] in /usr/local/lib/python3.10/dist-packages (0.19.0)\n",
      "Requirement already satisfied: deprecated>=1.2.13 in /usr/local/lib/python3.10/dist-packages (from sktime[all_extras]) (1.2.14)\n",
      "Requirement already satisfied: numpy<1.25,>=1.21.0 in /usr/local/lib/python3.10/dist-packages (from sktime[all_extras]) (1.22.4)\n",
      "Requirement already satisfied: pandas<2.0.0,>=1.1.0 in /usr/local/lib/python3.10/dist-packages (from sktime[all_extras]) (1.5.3)\n",
      "Requirement already satisfied: scikit-base<0.5.0 in /usr/local/lib/python3.10/dist-packages (from sktime[all_extras]) (0.4.5)\n",
      "Requirement already satisfied: scikit-learn<1.3.0,>=0.24.0 in /usr/local/lib/python3.10/dist-packages (from sktime[all_extras]) (1.2.2)\n",
      "Requirement already satisfied: scipy<2.0.0,>=1.2.0 in /usr/local/lib/python3.10/dist-packages (from sktime[all_extras]) (1.10.1)\n",
      "Requirement already satisfied: attrs in /usr/local/lib/python3.10/dist-packages (from sktime[all_extras]) (23.1.0)\n",
      "Requirement already satisfied: cloudpickle in /usr/local/lib/python3.10/dist-packages (from sktime[all_extras]) (2.2.1)\n",
      "Requirement already satisfied: dash!=2.9.0 in /usr/local/lib/python3.10/dist-packages (from sktime[all_extras]) (2.10.0)\n",
      "Requirement already satisfied: dask in /usr/local/lib/python3.10/dist-packages (from sktime[all_extras]) (2022.12.1)\n",
      "Requirement already satisfied: dtw-python in /usr/local/lib/python3.10/dist-packages (from sktime[all_extras]) (1.3.0)\n",
      "Requirement already satisfied: h5py in /usr/local/lib/python3.10/dist-packages (from sktime[all_extras]) (3.8.0)\n",
      "Requirement already satisfied: gluonts>=0.9.0 in /usr/local/lib/python3.10/dist-packages (from sktime[all_extras]) (0.13.1)\n",
      "Requirement already satisfied: kotsu>=0.3.1 in /usr/local/lib/python3.10/dist-packages (from sktime[all_extras]) (0.3.2)\n",
      "Requirement already satisfied: matplotlib>=3.3.2 in /usr/local/lib/python3.10/dist-packages (from sktime[all_extras]) (3.7.1)\n",
      "Requirement already satisfied: mne in /usr/local/lib/python3.10/dist-packages (from sktime[all_extras]) (1.4.0)\n",
      "Requirement already satisfied: pmdarima!=1.8.1,<3.0.0,>=1.8.0 in /usr/local/lib/python3.10/dist-packages (from sktime[all_extras]) (2.0.3)\n",
      "Requirement already satisfied: prophet>=1.1 in /usr/local/lib/python3.10/dist-packages (from sktime[all_extras]) (1.1.3)\n",
      "Requirement already satisfied: scikit-posthocs>=0.6.5 in /usr/local/lib/python3.10/dist-packages (from sktime[all_extras]) (0.7.0)\n",
      "Requirement already satisfied: seaborn>=0.11.0 in /usr/local/lib/python3.10/dist-packages (from sktime[all_extras]) (0.12.2)\n",
      "Requirement already satisfied: statsmodels>=0.12.1 in /usr/local/lib/python3.10/dist-packages (from sktime[all_extras]) (0.13.5)\n",
      "Requirement already satisfied: tbats>=1.1.0 in /usr/local/lib/python3.10/dist-packages (from sktime[all_extras]) (1.1.3)\n",
      "Requirement already satisfied: xarray in /usr/local/lib/python3.10/dist-packages (from sktime[all_extras]) (2022.12.0)\n",
      "Requirement already satisfied: seasonal in /usr/local/lib/python3.10/dist-packages (from sktime[all_extras]) (0.3.1)\n",
      "Requirement already satisfied: filterpy>=1.4.5 in /usr/local/lib/python3.10/dist-packages (from sktime[all_extras]) (1.4.5)\n",
      "Requirement already satisfied: hmmlearn>=0.2.7 in /usr/local/lib/python3.10/dist-packages (from sktime[all_extras]) (0.3.0)\n",
      "Requirement already satisfied: keras-self-attention in /usr/local/lib/python3.10/dist-packages (from sktime[all_extras]) (0.51.0)\n",
      "Requirement already satisfied: numba>=0.53 in /usr/local/lib/python3.10/dist-packages (from sktime[all_extras]) (0.56.4)\n",
      "Requirement already satisfied: pykalman>=0.9.5 in /usr/local/lib/python3.10/dist-packages (from sktime[all_extras]) (0.9.5)\n",
      "Requirement already satisfied: pyod>=0.8.0 in /usr/local/lib/python3.10/dist-packages (from sktime[all_extras]) (1.0.9)\n",
      "Requirement already satisfied: statsforecast>=0.5.2 in /usr/local/lib/python3.10/dist-packages (from sktime[all_extras]) (1.5.0)\n",
      "Requirement already satisfied: stumpy>=1.5.1 in /usr/local/lib/python3.10/dist-packages (from sktime[all_extras]) (1.11.1)\n",
      "Requirement already satisfied: tensorflow-probability in /usr/local/lib/python3.10/dist-packages (from sktime[all_extras]) (0.20.1)\n",
      "Requirement already satisfied: tensorflow in /usr/local/lib/python3.10/dist-packages (from sktime[all_extras]) (2.12.0)\n",
      "Requirement already satisfied: tslearn>=0.5.2 in /usr/local/lib/python3.10/dist-packages (from sktime[all_extras]) (0.5.3.2)\n",
      "Requirement already satisfied: Flask<=2.2.3,>=1.0.4 in /usr/local/lib/python3.10/dist-packages (from dash!=2.9.0->sktime[all_extras]) (2.2.3)\n",
      "Requirement already satisfied: Werkzeug<=2.2.3 in /usr/local/lib/python3.10/dist-packages (from dash!=2.9.0->sktime[all_extras]) (2.2.3)\n",
      "Requirement already satisfied: plotly>=5.0.0 in /usr/local/lib/python3.10/dist-packages (from dash!=2.9.0->sktime[all_extras]) (5.13.1)\n",
      "Requirement already satisfied: dash-html-components==2.0.0 in /usr/local/lib/python3.10/dist-packages (from dash!=2.9.0->sktime[all_extras]) (2.0.0)\n",
      "Requirement already satisfied: dash-core-components==2.0.0 in /usr/local/lib/python3.10/dist-packages (from dash!=2.9.0->sktime[all_extras]) (2.0.0)\n",
      "Requirement already satisfied: dash-table==5.0.0 in /usr/local/lib/python3.10/dist-packages (from dash!=2.9.0->sktime[all_extras]) (5.0.0)\n",
      "Requirement already satisfied: wrapt<2,>=1.10 in /usr/local/lib/python3.10/dist-packages (from deprecated>=1.2.13->sktime[all_extras]) (1.14.1)\n",
      "Requirement already satisfied: pydantic~=1.7 in /usr/local/lib/python3.10/dist-packages (from gluonts>=0.9.0->sktime[all_extras]) (1.10.7)\n",
      "Requirement already satisfied: tqdm~=4.23 in /usr/local/lib/python3.10/dist-packages (from gluonts>=0.9.0->sktime[all_extras]) (4.65.0)\n",
      "Requirement already satisfied: toolz~=0.10 in /usr/local/lib/python3.10/dist-packages (from gluonts>=0.9.0->sktime[all_extras]) (0.12.0)\n",
      "Requirement already satisfied: typing-extensions~=4.0 in /usr/local/lib/python3.10/dist-packages (from gluonts>=0.9.0->sktime[all_extras]) (4.5.0)\n",
      "Requirement already satisfied: contourpy>=1.0.1 in /usr/local/lib/python3.10/dist-packages (from matplotlib>=3.3.2->sktime[all_extras]) (1.0.7)\n",
      "Requirement already satisfied: cycler>=0.10 in /usr/local/lib/python3.10/dist-packages (from matplotlib>=3.3.2->sktime[all_extras]) (0.11.0)\n",
      "Requirement already satisfied: fonttools>=4.22.0 in /usr/local/lib/python3.10/dist-packages (from matplotlib>=3.3.2->sktime[all_extras]) (4.39.3)\n",
      "Requirement already satisfied: kiwisolver>=1.0.1 in /usr/local/lib/python3.10/dist-packages (from matplotlib>=3.3.2->sktime[all_extras]) (1.4.4)\n",
      "Requirement already satisfied: packaging>=20.0 in /usr/local/lib/python3.10/dist-packages (from matplotlib>=3.3.2->sktime[all_extras]) (23.1)\n",
      "Requirement already satisfied: pillow>=6.2.0 in /usr/local/lib/python3.10/dist-packages (from matplotlib>=3.3.2->sktime[all_extras]) (8.4.0)\n",
      "Requirement already satisfied: pyparsing>=2.3.1 in /usr/local/lib/python3.10/dist-packages (from matplotlib>=3.3.2->sktime[all_extras]) (3.0.9)\n",
      "Requirement already satisfied: python-dateutil>=2.7 in /usr/local/lib/python3.10/dist-packages (from matplotlib>=3.3.2->sktime[all_extras]) (2.8.2)\n",
      "Requirement already satisfied: llvmlite<0.40,>=0.39.0dev0 in /usr/local/lib/python3.10/dist-packages (from numba>=0.53->sktime[all_extras]) (0.39.1)\n",
      "Requirement already satisfied: setuptools in /usr/local/lib/python3.10/dist-packages (from numba>=0.53->sktime[all_extras]) (67.7.2)\n",
      "Requirement already satisfied: pytz>=2020.1 in /usr/local/lib/python3.10/dist-packages (from pandas<2.0.0,>=1.1.0->sktime[all_extras]) (2022.7.1)\n",
      "Requirement already satisfied: joblib>=0.11 in /usr/local/lib/python3.10/dist-packages (from pmdarima!=1.8.1,<3.0.0,>=1.8.0->sktime[all_extras]) (1.2.0)\n",
      "Requirement already satisfied: Cython!=0.29.18,!=0.29.31,>=0.29 in /usr/local/lib/python3.10/dist-packages (from pmdarima!=1.8.1,<3.0.0,>=1.8.0->sktime[all_extras]) (0.29.34)\n",
      "Requirement already satisfied: urllib3 in /usr/local/lib/python3.10/dist-packages (from pmdarima!=1.8.1,<3.0.0,>=1.8.0->sktime[all_extras]) (1.26.15)\n",
      "Requirement already satisfied: cmdstanpy>=1.0.4 in /usr/local/lib/python3.10/dist-packages (from prophet>=1.1->sktime[all_extras]) (1.1.0)\n",
      "Requirement already satisfied: LunarCalendar>=0.0.9 in /usr/local/lib/python3.10/dist-packages (from prophet>=1.1->sktime[all_extras]) (0.0.9)\n",
      "Requirement already satisfied: convertdate>=2.1.2 in /usr/local/lib/python3.10/dist-packages (from prophet>=1.1->sktime[all_extras]) (2.4.0)\n",
      "Requirement already satisfied: holidays>=0.14.2 in /usr/local/lib/python3.10/dist-packages (from prophet>=1.1->sktime[all_extras]) (0.25)\n",
      "Requirement already satisfied: importlib-resources in /usr/local/lib/python3.10/dist-packages (from prophet>=1.1->sktime[all_extras]) (5.12.0)\n",
      "Requirement already satisfied: six in /usr/local/lib/python3.10/dist-packages (from pyod>=0.8.0->sktime[all_extras]) (1.16.0)\n",
      "Requirement already satisfied: threadpoolctl>=2.0.0 in /usr/local/lib/python3.10/dist-packages (from scikit-learn<1.3.0,>=0.24.0->sktime[all_extras]) (3.1.0)\n",
      "Requirement already satisfied: plotly-resampler in /usr/local/lib/python3.10/dist-packages (from statsforecast>=0.5.2->sktime[all_extras]) (0.8.3.2)\n",
      "Requirement already satisfied: fugue>=0.8.1 in /usr/local/lib/python3.10/dist-packages (from statsforecast>=0.5.2->sktime[all_extras]) (0.8.4)\n",
      "Requirement already satisfied: patsy>=0.5.2 in /usr/local/lib/python3.10/dist-packages (from statsmodels>=0.12.1->sktime[all_extras]) (0.5.3)\n",
      "Requirement already satisfied: click>=7.0 in /usr/local/lib/python3.10/dist-packages (from dask->sktime[all_extras]) (8.1.3)\n",
      "Requirement already satisfied: fsspec>=0.6.0 in /usr/local/lib/python3.10/dist-packages (from dask->sktime[all_extras]) (2023.4.0)\n",
      "Requirement already satisfied: partd>=0.3.10 in /usr/local/lib/python3.10/dist-packages (from dask->sktime[all_extras]) (1.4.0)\n",
      "Requirement already satisfied: pyyaml>=5.3.1 in /usr/local/lib/python3.10/dist-packages (from dask->sktime[all_extras]) (6.0)\n",
      "Requirement already satisfied: pooch>=1.5 in /usr/local/lib/python3.10/dist-packages (from mne->sktime[all_extras]) (1.6.0)\n",
      "Requirement already satisfied: decorator in /usr/local/lib/python3.10/dist-packages (from mne->sktime[all_extras]) (4.4.2)\n",
      "Requirement already satisfied: jinja2 in /usr/local/lib/python3.10/dist-packages (from mne->sktime[all_extras]) (3.1.2)\n",
      "Requirement already satisfied: absl-py>=1.0.0 in /usr/local/lib/python3.10/dist-packages (from tensorflow->sktime[all_extras]) (1.4.0)\n",
      "Requirement already satisfied: astunparse>=1.6.0 in /usr/local/lib/python3.10/dist-packages (from tensorflow->sktime[all_extras]) (1.6.3)\n",
      "Requirement already satisfied: flatbuffers>=2.0 in /usr/local/lib/python3.10/dist-packages (from tensorflow->sktime[all_extras]) (23.3.3)\n",
      "Requirement already satisfied: gast<=0.4.0,>=0.2.1 in /usr/local/lib/python3.10/dist-packages (from tensorflow->sktime[all_extras]) (0.4.0)\n",
      "Requirement already satisfied: google-pasta>=0.1.1 in /usr/local/lib/python3.10/dist-packages (from tensorflow->sktime[all_extras]) (0.2.0)\n",
      "Requirement already satisfied: grpcio<2.0,>=1.24.3 in /usr/local/lib/python3.10/dist-packages (from tensorflow->sktime[all_extras]) (1.54.0)\n",
      "Requirement already satisfied: jax>=0.3.15 in /usr/local/lib/python3.10/dist-packages (from tensorflow->sktime[all_extras]) (0.4.10)\n",
      "Requirement already satisfied: keras<2.13,>=2.12.0 in /usr/local/lib/python3.10/dist-packages (from tensorflow->sktime[all_extras]) (2.12.0)\n",
      "Requirement already satisfied: libclang>=13.0.0 in /usr/local/lib/python3.10/dist-packages (from tensorflow->sktime[all_extras]) (16.0.0)\n",
      "Requirement already satisfied: opt-einsum>=2.3.2 in /usr/local/lib/python3.10/dist-packages (from tensorflow->sktime[all_extras]) (3.3.0)\n",
      "Requirement already satisfied: protobuf!=4.21.0,!=4.21.1,!=4.21.2,!=4.21.3,!=4.21.4,!=4.21.5,<5.0.0dev,>=3.20.3 in /usr/local/lib/python3.10/dist-packages (from tensorflow->sktime[all_extras]) (3.20.3)\n",
      "Requirement already satisfied: tensorboard<2.13,>=2.12 in /usr/local/lib/python3.10/dist-packages (from tensorflow->sktime[all_extras]) (2.12.2)\n",
      "Requirement already satisfied: tensorflow-estimator<2.13,>=2.12.0 in /usr/local/lib/python3.10/dist-packages (from tensorflow->sktime[all_extras]) (2.12.0)\n",
      "Requirement already satisfied: termcolor>=1.1.0 in /usr/local/lib/python3.10/dist-packages (from tensorflow->sktime[all_extras]) (2.3.0)\n",
      "Requirement already satisfied: tensorflow-io-gcs-filesystem>=0.23.1 in /usr/local/lib/python3.10/dist-packages (from tensorflow->sktime[all_extras]) (0.32.0)\n",
      "Requirement already satisfied: dm-tree in /usr/local/lib/python3.10/dist-packages (from tensorflow-probability->sktime[all_extras]) (0.1.8)\n",
      "Requirement already satisfied: wheel<1.0,>=0.23.0 in /usr/local/lib/python3.10/dist-packages (from astunparse>=1.6.0->tensorflow->sktime[all_extras]) (0.40.0)\n",
      "Requirement already satisfied: pymeeus<=1,>=0.3.13 in /usr/local/lib/python3.10/dist-packages (from convertdate>=2.1.2->prophet>=1.1->sktime[all_extras]) (0.5.12)\n",
      "Requirement already satisfied: itsdangerous>=2.0 in /usr/local/lib/python3.10/dist-packages (from Flask<=2.2.3,>=1.0.4->dash!=2.9.0->sktime[all_extras]) (2.1.2)\n",
      "Requirement already satisfied: triad>=0.8.8 in /usr/local/lib/python3.10/dist-packages (from fugue>=0.8.1->statsforecast>=0.5.2->sktime[all_extras]) (0.8.8)\n",
      "Requirement already satisfied: adagio>=0.2.4 in /usr/local/lib/python3.10/dist-packages (from fugue>=0.8.1->statsforecast>=0.5.2->sktime[all_extras]) (0.2.4)\n",
      "Requirement already satisfied: qpd>=0.4.1 in /usr/local/lib/python3.10/dist-packages (from fugue>=0.8.1->statsforecast>=0.5.2->sktime[all_extras]) (0.4.1)\n",
      "Requirement already satisfied: fugue-sql-antlr>=0.1.6 in /usr/local/lib/python3.10/dist-packages (from fugue>=0.8.1->statsforecast>=0.5.2->sktime[all_extras]) (0.1.6)\n",
      "Requirement already satisfied: pyarrow>=0.15.1 in /usr/local/lib/python3.10/dist-packages (from fugue>=0.8.1->statsforecast>=0.5.2->sktime[all_extras]) (9.0.0)\n",
      "Requirement already satisfied: sqlglot in /usr/local/lib/python3.10/dist-packages (from fugue>=0.8.1->statsforecast>=0.5.2->sktime[all_extras]) (14.1.1)\n",
      "Requirement already satisfied: korean-lunar-calendar in /usr/local/lib/python3.10/dist-packages (from holidays>=0.14.2->prophet>=1.1->sktime[all_extras]) (0.3.1)\n",
      "Requirement already satisfied: ml-dtypes>=0.1.0 in /usr/local/lib/python3.10/dist-packages (from jax>=0.3.15->tensorflow->sktime[all_extras]) (0.1.0)\n",
      "Requirement already satisfied: MarkupSafe>=2.0 in /usr/local/lib/python3.10/dist-packages (from jinja2->mne->sktime[all_extras]) (2.1.2)\n",
      "Requirement already satisfied: ephem>=3.7.5.3 in /usr/local/lib/python3.10/dist-packages (from LunarCalendar>=0.0.9->prophet>=1.1->sktime[all_extras]) (4.1.4)\n",
      "Requirement already satisfied: locket in /usr/local/lib/python3.10/dist-packages (from partd>=0.3.10->dask->sktime[all_extras]) (1.0.0)\n",
      "Requirement already satisfied: tenacity>=6.2.0 in /usr/local/lib/python3.10/dist-packages (from plotly>=5.0.0->dash!=2.9.0->sktime[all_extras]) (8.2.2)\n",
      "Requirement already satisfied: appdirs>=1.3.0 in /usr/local/lib/python3.10/dist-packages (from pooch>=1.5->mne->sktime[all_extras]) (1.4.4)\n",
      "Requirement already satisfied: requests>=2.19.0 in /usr/local/lib/python3.10/dist-packages (from pooch>=1.5->mne->sktime[all_extras]) (2.27.1)\n",
      "Requirement already satisfied: google-auth<3,>=1.6.3 in /usr/local/lib/python3.10/dist-packages (from tensorboard<2.13,>=2.12->tensorflow->sktime[all_extras]) (2.17.3)\n",
      "Requirement already satisfied: google-auth-oauthlib<1.1,>=0.5 in /usr/local/lib/python3.10/dist-packages (from tensorboard<2.13,>=2.12->tensorflow->sktime[all_extras]) (1.0.0)\n",
      "Requirement already satisfied: markdown>=2.6.8 in /usr/local/lib/python3.10/dist-packages (from tensorboard<2.13,>=2.12->tensorflow->sktime[all_extras]) (3.4.3)\n",
      "Requirement already satisfied: tensorboard-data-server<0.8.0,>=0.7.0 in /usr/local/lib/python3.10/dist-packages (from tensorboard<2.13,>=2.12->tensorflow->sktime[all_extras]) (0.7.0)\n",
      "Requirement already satisfied: tensorboard-plugin-wit>=1.6.0 in /usr/local/lib/python3.10/dist-packages (from tensorboard<2.13,>=2.12->tensorflow->sktime[all_extras]) (1.8.1)\n",
      "Requirement already satisfied: jupyter-dash>=0.4.2 in /usr/local/lib/python3.10/dist-packages (from plotly-resampler->statsforecast>=0.5.2->sktime[all_extras]) (0.4.2)\n",
      "Requirement already satisfied: orjson<4.0.0,>=3.8.0 in /usr/local/lib/python3.10/dist-packages (from plotly-resampler->statsforecast>=0.5.2->sktime[all_extras]) (3.8.14)\n",
      "Requirement already satisfied: trace-updater>=0.0.8 in /usr/local/lib/python3.10/dist-packages (from plotly-resampler->statsforecast>=0.5.2->sktime[all_extras]) (0.0.9.1)\n",
      "Requirement already satisfied: antlr4-python3-runtime<4.12,>=4.11.1 in /usr/local/lib/python3.10/dist-packages (from fugue-sql-antlr>=0.1.6->fugue>=0.8.1->statsforecast>=0.5.2->sktime[all_extras]) (4.11.1)\n",
      "Requirement already satisfied: cachetools<6.0,>=2.0.0 in /usr/local/lib/python3.10/dist-packages (from google-auth<3,>=1.6.3->tensorboard<2.13,>=2.12->tensorflow->sktime[all_extras]) (5.3.0)\n",
      "Requirement already satisfied: pyasn1-modules>=0.2.1 in /usr/local/lib/python3.10/dist-packages (from google-auth<3,>=1.6.3->tensorboard<2.13,>=2.12->tensorflow->sktime[all_extras]) (0.3.0)\n",
      "Requirement already satisfied: rsa<5,>=3.1.4 in /usr/local/lib/python3.10/dist-packages (from google-auth<3,>=1.6.3->tensorboard<2.13,>=2.12->tensorflow->sktime[all_extras]) (4.9)\n",
      "Requirement already satisfied: requests-oauthlib>=0.7.0 in /usr/local/lib/python3.10/dist-packages (from google-auth-oauthlib<1.1,>=0.5->tensorboard<2.13,>=2.12->tensorflow->sktime[all_extras]) (1.3.1)\n",
      "Requirement already satisfied: retrying in /usr/local/lib/python3.10/dist-packages (from jupyter-dash>=0.4.2->plotly-resampler->statsforecast>=0.5.2->sktime[all_extras]) (1.3.4)\n",
      "Requirement already satisfied: ipython in /usr/local/lib/python3.10/dist-packages (from jupyter-dash>=0.4.2->plotly-resampler->statsforecast>=0.5.2->sktime[all_extras]) (7.34.0)\n",
      "Requirement already satisfied: ipykernel in /usr/local/lib/python3.10/dist-packages (from jupyter-dash>=0.4.2->plotly-resampler->statsforecast>=0.5.2->sktime[all_extras]) (5.5.6)\n",
      "Requirement already satisfied: ansi2html in /usr/local/lib/python3.10/dist-packages (from jupyter-dash>=0.4.2->plotly-resampler->statsforecast>=0.5.2->sktime[all_extras]) (1.8.0)\n",
      "Requirement already satisfied: nest-asyncio in /usr/local/lib/python3.10/dist-packages (from jupyter-dash>=0.4.2->plotly-resampler->statsforecast>=0.5.2->sktime[all_extras]) (1.5.6)\n",
      "Requirement already satisfied: certifi>=2017.4.17 in /usr/local/lib/python3.10/dist-packages (from requests>=2.19.0->pooch>=1.5->mne->sktime[all_extras]) (2022.12.7)\n",
      "Requirement already satisfied: charset-normalizer~=2.0.0 in /usr/local/lib/python3.10/dist-packages (from requests>=2.19.0->pooch>=1.5->mne->sktime[all_extras]) (2.0.12)\n",
      "Requirement already satisfied: idna<4,>=2.5 in /usr/local/lib/python3.10/dist-packages (from requests>=2.19.0->pooch>=1.5->mne->sktime[all_extras]) (3.4)\n",
      "Requirement already satisfied: fs in /usr/local/lib/python3.10/dist-packages (from triad>=0.8.8->fugue>=0.8.1->statsforecast>=0.5.2->sktime[all_extras]) (2.4.16)\n",
      "Requirement already satisfied: pyasn1<0.6.0,>=0.4.6 in /usr/local/lib/python3.10/dist-packages (from pyasn1-modules>=0.2.1->google-auth<3,>=1.6.3->tensorboard<2.13,>=2.12->tensorflow->sktime[all_extras]) (0.5.0)\n",
      "Requirement already satisfied: oauthlib>=3.0.0 in /usr/local/lib/python3.10/dist-packages (from requests-oauthlib>=0.7.0->google-auth-oauthlib<1.1,>=0.5->tensorboard<2.13,>=2.12->tensorflow->sktime[all_extras]) (3.2.2)\n",
      "Requirement already satisfied: ipython-genutils in /usr/local/lib/python3.10/dist-packages (from ipykernel->jupyter-dash>=0.4.2->plotly-resampler->statsforecast>=0.5.2->sktime[all_extras]) (0.2.0)\n",
      "Requirement already satisfied: traitlets>=4.1.0 in /usr/local/lib/python3.10/dist-packages (from ipykernel->jupyter-dash>=0.4.2->plotly-resampler->statsforecast>=0.5.2->sktime[all_extras]) (5.7.1)\n",
      "Requirement already satisfied: jupyter-client in /usr/local/lib/python3.10/dist-packages (from ipykernel->jupyter-dash>=0.4.2->plotly-resampler->statsforecast>=0.5.2->sktime[all_extras]) (6.1.12)\n",
      "Requirement already satisfied: tornado>=4.2 in /usr/local/lib/python3.10/dist-packages (from ipykernel->jupyter-dash>=0.4.2->plotly-resampler->statsforecast>=0.5.2->sktime[all_extras]) (6.3.1)\n",
      "Requirement already satisfied: jedi>=0.16 in /usr/local/lib/python3.10/dist-packages (from ipython->jupyter-dash>=0.4.2->plotly-resampler->statsforecast>=0.5.2->sktime[all_extras]) (0.18.2)\n",
      "Requirement already satisfied: pickleshare in /usr/local/lib/python3.10/dist-packages (from ipython->jupyter-dash>=0.4.2->plotly-resampler->statsforecast>=0.5.2->sktime[all_extras]) (0.7.5)\n",
      "Requirement already satisfied: prompt-toolkit!=3.0.0,!=3.0.1,<3.1.0,>=2.0.0 in /usr/local/lib/python3.10/dist-packages (from ipython->jupyter-dash>=0.4.2->plotly-resampler->statsforecast>=0.5.2->sktime[all_extras]) (3.0.38)\n",
      "Requirement already satisfied: pygments in /usr/local/lib/python3.10/dist-packages (from ipython->jupyter-dash>=0.4.2->plotly-resampler->statsforecast>=0.5.2->sktime[all_extras]) (2.14.0)\n",
      "Requirement already satisfied: backcall in /usr/local/lib/python3.10/dist-packages (from ipython->jupyter-dash>=0.4.2->plotly-resampler->statsforecast>=0.5.2->sktime[all_extras]) (0.2.0)\n",
      "Requirement already satisfied: matplotlib-inline in /usr/local/lib/python3.10/dist-packages (from ipython->jupyter-dash>=0.4.2->plotly-resampler->statsforecast>=0.5.2->sktime[all_extras]) (0.1.6)\n",
      "Requirement already satisfied: pexpect>4.3 in /usr/local/lib/python3.10/dist-packages (from ipython->jupyter-dash>=0.4.2->plotly-resampler->statsforecast>=0.5.2->sktime[all_extras]) (4.8.0)\n",
      "Requirement already satisfied: parso<0.9.0,>=0.8.0 in /usr/local/lib/python3.10/dist-packages (from jedi>=0.16->ipython->jupyter-dash>=0.4.2->plotly-resampler->statsforecast>=0.5.2->sktime[all_extras]) (0.8.3)\n",
      "Requirement already satisfied: ptyprocess>=0.5 in /usr/local/lib/python3.10/dist-packages (from pexpect>4.3->ipython->jupyter-dash>=0.4.2->plotly-resampler->statsforecast>=0.5.2->sktime[all_extras]) (0.7.0)\n",
      "Requirement already satisfied: wcwidth in /usr/local/lib/python3.10/dist-packages (from prompt-toolkit!=3.0.0,!=3.0.1,<3.1.0,>=2.0.0->ipython->jupyter-dash>=0.4.2->plotly-resampler->statsforecast>=0.5.2->sktime[all_extras]) (0.2.6)\n",
      "Requirement already satisfied: jupyter-core>=4.6.0 in /usr/local/lib/python3.10/dist-packages (from jupyter-client->ipykernel->jupyter-dash>=0.4.2->plotly-resampler->statsforecast>=0.5.2->sktime[all_extras]) (5.3.0)\n",
      "Requirement already satisfied: pyzmq>=13 in /usr/local/lib/python3.10/dist-packages (from jupyter-client->ipykernel->jupyter-dash>=0.4.2->plotly-resampler->statsforecast>=0.5.2->sktime[all_extras]) (23.2.1)\n",
      "Requirement already satisfied: platformdirs>=2.5 in /usr/local/lib/python3.10/dist-packages (from jupyter-core>=4.6.0->jupyter-client->ipykernel->jupyter-dash>=0.4.2->plotly-resampler->statsforecast>=0.5.2->sktime[all_extras]) (3.3.0)\n"
     ]
    }
   ],
   "source": [
    "!pip install sktime[all_extras]"
   ]
  },
  {
   "cell_type": "code",
   "execution_count": 3,
   "metadata": {
    "colab": {
     "base_uri": "https://localhost:8080/"
    },
    "collapsed": true,
    "id": "Hc6vhl4DCBQE",
    "jupyter": {
     "outputs_hidden": true
    },
    "outputId": "fae968cd-8087-449b-c20d-ab766ed59259",
    "tags": []
   },
   "outputs": [
    {
     "name": "stderr",
     "output_type": "stream",
     "text": [
      "/usr/local/lib/python3.10/dist-packages/sktime/__init__.py:45: PackageDeprecationWarning: \n",
      "The sktime PyPI package is deprecated.\n",
      "The sktime project split into two projects.\n",
      "\n",
      "To find out how to install the new packages, please go to:\n",
      "\n",
      "* https://github.com/aeon-toolkit/aeon\n",
      "* https://github.com/sktime/sktime\n",
      "\n",
      "Here is what you can do when installing sktime via pip (e.g. using `pip install ...` or a requirement file like `requirements.txt`, `setup.py`, `setup.cfg`):\n",
      "\n",
      "* continue using the package without receiving any updates (ignoring the deprecation warning or avoiding it by pinning the version: `sktime==0.18.0`),\n",
      "* replace sktime with one of the new projects,\n",
      "* if the sktime package is used by one of your dependencies, it would be great if you take some time to track which package uses sktime and report to their issue tracker that sktime is deprecated.\n",
      "\n",
      "More information is available at:\n",
      "https://github.com/mloning/sktime-deprecation/discussions/2\n",
      "\n",
      "If the previous advice does not support your use case, feel free to report it at:\n",
      "https://github.com/mloning/sktime-deprecation/issues/new\n",
      "\n",
      "  warn(message, category=PackageDeprecationWarning)\n"
     ]
    }
   ],
   "source": [
    "import pandas as pd\n",
    "from catboost import CatBoostClassifier\n",
    "from sklearn.ensemble import RandomForestClassifier\n",
    "from sklearn.metrics import accuracy_score, f1_score\n",
    "from sktime.transformations.panel.rocket import Rocket"
   ]
  },
  {
   "cell_type": "markdown",
   "metadata": {
    "id": "PXJuH0o6D48f"
   },
   "source": [
    "First we open our datasets and try common catboost classifier and random forest"
   ]
  },
  {
   "cell_type": "code",
   "execution_count": 4,
   "metadata": {
    "id": "HySnX9BGENfz"
   },
   "outputs": [],
   "source": [
    "train_df = pd.read_csv('Ham_TRAIN.txt', sep='\\s+', skipinitialspace=True, header=None)\n",
    "test_df = pd.read_csv('Ham_TEST.txt', sep='\\s+', skipinitialspace=True, header=None)\n",
    "\n",
    "X_train = train_df.iloc[:, 1:433]\n",
    "y_train = train_df.iloc[:, 0]\n",
    "\n",
    "X_test = test_df.iloc[:, 1:433]\n",
    "y_test = test_df.iloc[:, 0]"
   ]
  },
  {
   "cell_type": "code",
   "execution_count": 5,
   "metadata": {
    "colab": {
     "base_uri": "https://localhost:8080/"
    },
    "id": "MRtvqCtobi69",
    "outputId": "16bb8d8e-1c97-487e-b037-2f261de2b0e2"
   },
   "outputs": [
    {
     "name": "stdout",
     "output_type": "stream",
     "text": [
      "F1 Score: 0.673469387755102\n",
      "Accuracy: 0.6952380952380952\n"
     ]
    }
   ],
   "source": [
    "# common catboost\n",
    "\n",
    "model = CatBoostClassifier(iterations=100, random_state=42)\n",
    "\n",
    "model.fit(X_train, y_train, verbose=False)\n",
    "\n",
    "y_pred = model.predict(X_test)\n",
    "\n",
    "f1 = f1_score(y_test, y_pred)\n",
    "accuracy = accuracy_score(y_test, y_pred)\n",
    "\n",
    "print(\"F1 Score:\", f1)\n",
    "print(\"Accuracy:\", accuracy)\n"
   ]
  },
  {
   "cell_type": "code",
   "execution_count": 6,
   "metadata": {
    "colab": {
     "base_uri": "https://localhost:8080/"
    },
    "id": "Vi9S3ID4CXp5",
    "outputId": "30bd4453-a9a9-46e3-f276-d3932db892f5"
   },
   "outputs": [
    {
     "name": "stdout",
     "output_type": "stream",
     "text": [
      "F1 Score: 0.7184466019417477\n",
      "Accuracy: 0.7238095238095238\n"
     ]
    }
   ],
   "source": [
    "# random forest\n",
    "\n",
    "model = RandomForestClassifier(n_estimators=100, random_state=42)\n",
    "\n",
    "model.fit(X_train, y_train)\n",
    "\n",
    "y_pred = model.predict(X_test)\n",
    "\n",
    "f1 = f1_score(y_test, y_pred)\n",
    "accuracy = accuracy_score(y_test, y_pred)\n",
    "\n",
    "print(\"F1 Score:\", f1)\n",
    "print(\"Accuracy:\", accuracy)"
   ]
  },
  {
   "cell_type": "markdown",
   "metadata": {
    "id": "c4Oe59wpElBF"
   },
   "source": [
    "Now try implementation of ROCKET from sktime"
   ]
  },
  {
   "cell_type": "code",
   "execution_count": 7,
   "metadata": {
    "id": "yBvUQgBD9_YJ"
   },
   "outputs": [],
   "source": [
    "def create_x_y_for_rocket(name):\n",
    "    '''\n",
    "    additional function for opening our txt \n",
    "    file in necessary for sktime rocket format \n",
    "    '''\n",
    "\n",
    "    with open(name, \"r\") as file:\n",
    "        content = file.read()\n",
    "\n",
    "    content = content.strip()\n",
    "    data = content.split()\n",
    "    data = [float(x) for x in data]\n",
    "    class_labels = [data[i] for i in range(0, len(data), 432)]\n",
    "    feature_values = [pd.Series(data[i+1:i+432]) for i in range(0, len(data), 432)]\n",
    "\n",
    "    y = pd.DataFrame({'Class': class_labels})\n",
    "    X = pd.DataFrame({'dim_0': feature_values})\n",
    "    return X, y"
   ]
  },
  {
   "cell_type": "code",
   "execution_count": 8,
   "metadata": {
    "id": "V3Lpym4QDD0Y"
   },
   "outputs": [],
   "source": [
    "X_train, y_train = create_x_y_for_rocket('Ham_TRAIN.txt')\n",
    "X_test, y_test = create_x_y_for_rocket('Ham_TEST.txt')"
   ]
  },
  {
   "cell_type": "code",
   "execution_count": 9,
   "metadata": {
    "id": "Nd9X3LsqloKm"
   },
   "outputs": [],
   "source": [
    "rocket = Rocket()\n",
    "rocket.fit(X_train)\n",
    "X_train_transform = rocket.transform(X_train)\n",
    "X_test_transform = rocket.transform(X_test)"
   ]
  },
  {
   "cell_type": "code",
   "execution_count": 10,
   "metadata": {
    "colab": {
     "base_uri": "https://localhost:8080/"
    },
    "id": "1zpq1ZWs-1SO",
    "outputId": "e299874f-214e-4254-e47b-b75ea3f46071"
   },
   "outputs": [
    {
     "name": "stdout",
     "output_type": "stream",
     "text": [
      "F1 Score: 0.7474747474747475\n",
      "Accuracy: 0.7619047619047619\n"
     ]
    }
   ],
   "source": [
    "# catboost rocket\n",
    "\n",
    "model = CatBoostClassifier(iterations=100, random_state=42)\n",
    "\n",
    "model.fit(X_train_transform, y_train, verbose=False)\n",
    "\n",
    "y_pred = model.predict(X_test_transform)\n",
    "\n",
    "f1 = f1_score(y_test, y_pred)\n",
    "accuracy = accuracy_score(y_test, y_pred)\n",
    "\n",
    "print(\"F1 Score:\", f1)\n",
    "print(\"Accuracy:\", accuracy)"
   ]
  },
  {
   "cell_type": "code",
   "execution_count": 11,
   "metadata": {
    "colab": {
     "base_uri": "https://localhost:8080/"
    },
    "id": "5WUM1vP6-U2g",
    "outputId": "bb9c4e32-3cc2-423c-8660-b05ad13e1587"
   },
   "outputs": [
    {
     "name": "stdout",
     "output_type": "stream",
     "text": [
      "F1 Score: 0.7547169811320754\n",
      "Accuracy: 0.7523809523809524\n"
     ]
    }
   ],
   "source": [
    "# random forest rocket\n",
    "\n",
    "model = RandomForestClassifier(n_estimators=100, random_state=42)\n",
    "\n",
    "model.fit(X_train_transform, y_train.values.ravel())\n",
    "\n",
    "y_pred = model.predict(X_test_transform)\n",
    "\n",
    "f1 = f1_score(y_test, y_pred)\n",
    "accuracy = accuracy_score(y_test, y_pred)\n",
    "\n",
    "print(\"F1 Score:\", f1)\n",
    "print(\"Accuracy:\", accuracy)"
   ]
  },
  {
   "cell_type": "code",
   "execution_count": 11,
   "metadata": {
    "id": "E7ARgn0VFEc3"
   },
   "outputs": [],
   "source": []
  }
 ],
 "metadata": {
  "colab": {
   "provenance": []
  },
  "kernelspec": {
   "display_name": "Python 3 (ipykernel)",
   "language": "python",
   "name": "python3"
  },
  "language_info": {
   "codemirror_mode": {
    "name": "ipython",
    "version": 3
   },
   "file_extension": ".py",
   "mimetype": "text/x-python",
   "name": "python",
   "nbconvert_exporter": "python",
   "pygments_lexer": "ipython3",
   "version": "3.9.13"
  }
 },
 "nbformat": 4,
 "nbformat_minor": 4
}
